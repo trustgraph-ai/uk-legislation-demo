{
 "cells": [
  {
   "cell_type": "code",
   "execution_count": 1,
   "id": "906573ab-34de-4b3b-8dfd-41de9194046d",
   "metadata": {},
   "outputs": [
    {
     "name": "stdout",
     "output_type": "stream",
     "text": [
      "Requirement already satisfied: trustgraph-base in /home/mark/env/lib/python3.12/site-packages (0.17.4)\n",
      "Requirement already satisfied: pulsar-client in /home/mark/env/lib/python3.12/site-packages (from trustgraph-base) (3.5.0)\n",
      "Requirement already satisfied: prometheus-client in /home/mark/env/lib/python3.12/site-packages (from trustgraph-base) (0.21.1)\n",
      "Requirement already satisfied: certifi in /home/mark/env/lib/python3.12/site-packages (from pulsar-client->trustgraph-base) (2024.8.30)\n"
     ]
    }
   ],
   "source": [
    "!pip install trustgraph-base"
   ]
  },
  {
   "cell_type": "code",
   "execution_count": 2,
   "id": "4b81b8a2-a063-4323-812d-0bc4e4cd60a7",
   "metadata": {},
   "outputs": [],
   "source": [
    "import trustgraph.api as tg\n",
    "import textwrap\n",
    "from IPython.display import display, Markdown"
   ]
  },
  {
   "cell_type": "code",
   "execution_count": 3,
   "id": "c731277d-deb6-43c0-bc7d-3c4e5df26d59",
   "metadata": {},
   "outputs": [],
   "source": [
    "cli = tg.Api()"
   ]
  },
  {
   "cell_type": "code",
   "execution_count": 4,
   "id": "f04fb7d9-2fd0-47ea-9356-7d2c3706e55f",
   "metadata": {},
   "outputs": [],
   "source": [
    "resp = cli.graph_rag(\"\"\"\n",
    "Summarise three significants acts of parliament\n",
    "which were passed in 2024\n",
    "\"\"\")"
   ]
  },
  {
   "cell_type": "code",
   "execution_count": 5,
   "id": "a15a3ed9-65f9-4c62-8a40-151f7bf7e814",
   "metadata": {},
   "outputs": [
    {
     "data": {
      "text/markdown": [
       "Based on the provided text, three significant Acts of Parliament passed in 2024 are:\n",
       "\n",
       "1.  **Budget Responsibility Act 2024:** This Act concerns fiscal announcements, fiscally significant measures, section 4(3) reports, and the Charter for Budget Responsibility.  It amends Part 1 of the Budget Responsibility and National Audit Act 2011.\n",
       "\n",
       "2.  **Trade (Comprehensive and Progressive Agreement for Trans-Pacific Partnership) Act 2024:** This Act was published by the Statute Law Database.\n",
       "\n",
       "3.  **Senedd Cymru (Members and Elections) Act 2024:** This Act amends the Government of Wales Act 2006, the Wales Act 2014, and the Parliamentary Voting System and Constituencies Act 2011.  It was published by the Statute Law Database.\n"
      ],
      "text/plain": [
       "<IPython.core.display.Markdown object>"
      ]
     },
     "metadata": {},
     "output_type": "display_data"
    }
   ],
   "source": [
    "display(Markdown(resp))"
   ]
  },
  {
   "cell_type": "code",
   "execution_count": 6,
   "id": "fba37a43-a1cd-4284-8028-28aa03043a61",
   "metadata": {},
   "outputs": [],
   "source": [
    "resp = cli.graph_rag(\"\"\"\n",
    "I am leading the financial ministry of an incoming governement\n",
    "to replace the current governemnt in 2025.\n",
    "\n",
    "Our policies include creating new legislation around regulating the\n",
    "leasehold marketplace to eliminate long-term lock-in and variation\n",
    "in ground rents.  We are also going to invest £2bn in academic centres\n",
    "and significantly shift towards agricultural grants for agriculture\n",
    "which promotes wildlife.\n",
    "\n",
    "I also intend to double the investment in vaccines, and launch a\n",
    "new semiconductor investment for companies building fabrication in\n",
    "the UK.\n",
    "\n",
    "The government also intends to appoint a Minister for Children's\n",
    "Entertainment and allocate a budget, as there have been too many\n",
    "unregulated, socially delinquent clowns under the previous government.\n",
    "\n",
    "Write a memo to the heads of departments of the treasury outline the\n",
    "new legislative changes that will be needed.  Make specific references\n",
    "to existing legislation that will need to be modified.\n",
    "\"\"\")"
   ]
  },
  {
   "cell_type": "code",
   "execution_count": 7,
   "id": "d71cb03f-0991-4c93-8614-a24d2ccb9f07",
   "metadata": {},
   "outputs": [
    {
     "data": {
      "text/markdown": [
       "MEMORANDUM\n",
       "\n",
       "TO: Heads of Treasury Departments\n",
       "FROM: Minister of Finance\n",
       "DATE: October 26, 2024\n",
       "SUBJECT: Required Legislative Changes for 2025\n",
       "\n",
       "This memo outlines necessary legislative changes to support the incoming government's policy priorities for 2025.  These changes will require amendments to existing legislation and the creation of new legislation.\n",
       "\n",
       "**1. Leasehold Market Reform:**\n",
       "\n",
       "Our policy to eliminate long-term lock-in and variation in ground rents in the leasehold marketplace will necessitate new legislation.  This will likely involve amending or replacing existing legislation concerning leasehold agreements.  Specific legislation to review and potentially amend includes the *Leasehold and Freehold Reform Act 2024*.  Further analysis is required to determine the extent of necessary modifications.\n",
       "\n",
       "**2. Investment in Academic Centres (£2bn):**\n",
       "\n",
       "The £2bn investment in academic centres will require budgetary allocation.  This will involve amending the *Scheduled Estimates* to reflect this new expenditure.  The process for amending the *Scheduled Estimates* is outlined in the *Supply and Appropriation (Main Estimates) Act 2024*.  The *Budget Responsibility Act 2024* will also need to be considered in relation to this significant fiscal measure.\n",
       "\n",
       "**3. Agricultural Grants:**\n",
       "\n",
       "Shifting towards agricultural grants that promote wildlife will require new regulations.  This will involve creating new legislation or amending existing agricultural grant schemes.  The *The Farming for the Generations Scheme (Amendment) Regulations (Northern Ireland) 2024* may serve as a model for creating new legislation in this area.\n",
       "\n",
       "**4. Vaccine Investment (Doubling):**\n",
       "\n",
       "Doubling investment in vaccines will necessitate budgetary reallocation.  Similar to the academic investment, this will require amending the *Scheduled Estimates* and considering the implications under the *Budget Responsibility Act 2024*.\n",
       "\n",
       "**5. Semiconductor Investment:**\n",
       "\n",
       "The new semiconductor investment for companies building fabrication plants in the UK will require new legislation or amendments to existing investment schemes.  This will likely involve creating new incentives or tax breaks, requiring amendments to relevant tax legislation (e.g., *Finance Act 2024*).\n",
       "\n",
       "**6. Minister for Children's Entertainment:**\n",
       "\n",
       "Creating the position of Minister for Children's Entertainment and allocating a budget will require budgetary allocation within the *Scheduled Estimates* and potentially new legislation to regulate children's entertainment, addressing the lack of regulation highlighted by the previous government.\n",
       "\n",
       "\n",
       "This memo serves as a preliminary overview.  Further detailed analysis of existing legislation and the drafting of new legislation will be required by the relevant departments.  Please provide your departments' assessments of the necessary legislative changes and their feasibility by [Date].\n"
      ],
      "text/plain": [
       "<IPython.core.display.Markdown object>"
      ]
     },
     "metadata": {},
     "output_type": "display_data"
    }
   ],
   "source": [
    "display(Markdown(resp))"
   ]
  },
  {
   "cell_type": "code",
   "execution_count": 8,
   "id": "fb1ab96b-cb2d-4170-ab38-da51d569c2c4",
   "metadata": {},
   "outputs": [],
   "source": [
    "resp = cli.graph_rag(\"\"\"\n",
    "You are a knowledgeable assistant keen to provide information about UK\n",
    "Legislation.\n",
    "\n",
    "You represent the company Arbeitgeber-Teamlösungen which provides services\n",
    "to employers in helping to reduce the impact of workforce costs with\n",
    "structural re-organisation.  The company is planning to move into the UK\n",
    "market and wishes advice on the impact of UK law on its operations.\n",
    "\n",
    "One particular service offered  is to lay off employees and re-hire them\n",
    "under new cheaper contracts.  This is provided as a packaged service,\n",
    "fixed-price depending on the number of employees.  During the contract\n",
    "implementation phase, the contracts are run from an off-shore company in\n",
    "a country with no financial links to the UK to reduce the possibility of\n",
    "financial impact on the company.\n",
    "\n",
    "Please indicate any areas which you think may be incompatible with UK\n",
    "legislation passed in 2024 and describe areas which should receive\n",
    "further research.  Only reference 2024 primary legislation in your analysis.\n",
    "\"\"\")"
   ]
  },
  {
   "cell_type": "code",
   "execution_count": 9,
   "id": "3bb900d7-fcc1-4a1a-a4af-93a207b3ad77",
   "metadata": {},
   "outputs": [
    {
     "data": {
      "text/markdown": [
       "Based solely on the provided knowledge graph data, there is no mention of UK legislation passed in 2024 that directly addresses the practice of laying off employees and re-hiring them under new, cheaper contracts from an offshore company.  Therefore, no incompatibility with 2024 UK legislation can be identified from this data.\n",
       "\n",
       "However, the following areas require further research using sources beyond this knowledge graph to determine potential incompatibility with UK law passed in 2024:\n",
       "\n",
       "* **Employment Rights:**  UK employment law contains numerous provisions regarding employee rights, redundancy, and fair dismissal.  Research is needed to determine if the described service complies with these laws, particularly concerning the legality of the layoff and re-hiring process and the potential for claims of unfair dismissal or breach of contract.  The use of an offshore company to manage contracts during implementation may also have implications under UK employment law.\n",
       "\n",
       "* **Taxation and National Insurance:**  The use of an offshore company to reduce financial impact needs careful examination under UK tax and National Insurance laws.  There may be implications for tax avoidance or evasion if the structure is not compliant with UK regulations.  This requires detailed research into relevant tax legislation passed in 2024.\n",
       "\n",
       "* **Data Protection and Privacy:**  If the offshore company handles employee data, compliance with UK data protection laws (like the UK GDPR) must be ensured.  Research is needed to determine if the data handling practices comply with the relevant 2024 legislation and regulations.\n",
       "\n",
       "\n",
       "The provided knowledge graph does not offer sufficient information to assess the legality of the described service under UK law passed in 2024.  Thorough research into UK employment law, tax law, and data protection law from 2024 is crucial before operating in the UK market.\n"
      ],
      "text/plain": [
       "<IPython.core.display.Markdown object>"
      ]
     },
     "metadata": {},
     "output_type": "display_data"
    }
   ],
   "source": [
    "display(Markdown(resp))"
   ]
  },
  {
   "cell_type": "code",
   "execution_count": null,
   "id": "296bd429-6ba9-4890-afa7-b06424b21672",
   "metadata": {},
   "outputs": [],
   "source": []
  }
 ],
 "metadata": {
  "kernelspec": {
   "display_name": "Python 3 (ipykernel)",
   "language": "python",
   "name": "python3"
  },
  "language_info": {
   "codemirror_mode": {
    "name": "ipython",
    "version": 3
   },
   "file_extension": ".py",
   "mimetype": "text/x-python",
   "name": "python",
   "nbconvert_exporter": "python",
   "pygments_lexer": "ipython3",
   "version": "3.12.7"
  }
 },
 "nbformat": 4,
 "nbformat_minor": 5
}
