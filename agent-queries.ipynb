{
 "cells": [
  {
   "cell_type": "code",
   "execution_count": 37,
   "id": "906573ab-34de-4b3b-8dfd-41de9194046d",
   "metadata": {},
   "outputs": [
    {
     "name": "stdout",
     "output_type": "stream",
     "text": [
      "Requirement already satisfied: trustgraph-base in /home/mark/env/lib/python3.12/site-packages (0.17.4)\n",
      "Requirement already satisfied: pulsar-client in /home/mark/env/lib/python3.12/site-packages (from trustgraph-base) (3.5.0)\n",
      "Requirement already satisfied: prometheus-client in /home/mark/env/lib/python3.12/site-packages (from trustgraph-base) (0.21.1)\n",
      "Requirement already satisfied: certifi in /home/mark/env/lib/python3.12/site-packages (from pulsar-client->trustgraph-base) (2024.8.30)\n"
     ]
    }
   ],
   "source": [
    "!pip install trustgraph-base"
   ]
  },
  {
   "cell_type": "code",
   "execution_count": 38,
   "id": "4b81b8a2-a063-4323-812d-0bc4e4cd60a7",
   "metadata": {},
   "outputs": [],
   "source": [
    "from trustgraph.clients.agent_client import AgentClient\n",
    "import textwrap\n",
    "from IPython.display import display, Markdown"
   ]
  },
  {
   "cell_type": "code",
   "execution_count": 39,
   "id": "c731277d-deb6-43c0-bc7d-3c4e5df26d59",
   "metadata": {},
   "outputs": [],
   "source": [
    "cli = AgentClient(\n",
    "    subscriber=\"agent-demo3\",\n",
    "    pulsar_host=\"pulsar://localhost:6650\"\n",
    ")"
   ]
  },
  {
   "cell_type": "code",
   "execution_count": 40,
   "id": "02845703-e11a-4bb3-af0d-d66b644a6805",
   "metadata": {},
   "outputs": [],
   "source": [
    "def thought(x):\n",
    "    display(Markdown(\"*thinking*: \" + x))\n",
    "    print()"
   ]
  },
  {
   "cell_type": "code",
   "execution_count": 41,
   "id": "940d59a2-fd79-4ab0-8794-1f64834e7804",
   "metadata": {},
   "outputs": [],
   "source": [
    "def observe(x):\n",
    "    display(Markdown(\"*observing*: \" + x))\n",
    "    print()"
   ]
  },
  {
   "cell_type": "code",
   "execution_count": 58,
   "id": "7086611d-ecfb-428d-9844-9d06d3fb1efb",
   "metadata": {},
   "outputs": [
    {
     "data": {
      "text/markdown": [
       "*thinking*: I need to find information on UK legislation impacting leaseholders and freeholders in 2024."
      ],
      "text/plain": [
       "<IPython.core.display.Markdown object>"
      ]
     },
     "metadata": {},
     "output_type": "display_data"
    },
    {
     "name": "stdout",
     "output_type": "stream",
     "text": [
      "\n"
     ]
    },
    {
     "data": {
      "text/markdown": [
       "*observing*: Based on the provided text, the Leasehold and Freehold Reform Act 2024 significantly impacts leaseholders and freeholders in the UK.  Several cases (Case A, B, C, and D) and conditions (A, B, and C) related to leases are referenced in relation to this Act.  The Act also addresses long residential leases of houses,  leases granted with covenants for perpetual renewal, and leases capable of forming part of a series of leases extending beyond 21 years."
      ],
      "text/plain": [
       "<IPython.core.display.Markdown object>"
      ]
     },
     "metadata": {},
     "output_type": "display_data"
    },
    {
     "name": "stdout",
     "output_type": "stream",
     "text": [
      "\n"
     ]
    },
    {
     "data": {
      "text/markdown": [
       "*thinking*: I need to gather more information about the Leasehold and Freehold Reform Act 2024 to provide a comprehensive summary."
      ],
      "text/plain": [
       "<IPython.core.display.Markdown object>"
      ]
     },
     "metadata": {},
     "output_type": "display_data"
    },
    {
     "name": "stdout",
     "output_type": "stream",
     "text": [
      "\n"
     ]
    },
    {
     "data": {
      "text/markdown": [
       "*observing*: Based on the provided text, the Leasehold and Freehold Reform Act 2024 addresses long residential leases of houses.  A lease is considered a long residential lease of a house if conditions A to C are met:\n",
       "\n",
       "* **Condition A:** The lease has a long term (defined in sections 3 and 4).  A lease has a long term if it's granted for a term certain exceeding 21 years; section 149(6) of the Law of Property Act 1925 applies; it's granted with a covenant or obligation for perpetual renewal (unless it's a sub-lease with a term of 21 years or shorter); or it's capable of forming part of a series of leases whose terms would extend beyond 21 years.\n",
       "\n",
       "* **Condition B:** The lease demises one house (with or without appurtenant property), and nothing else.\n",
       "\n",
       "* **Condition C:** The lease is a residential lease (see section 6).\n",
       "\n",
       "The act also covers situations where:\n",
       "\n",
       "* The lease is capable of forming part of a series of leases whose terms would extend beyond 21 years.\n",
       "* The lease is granted with a covenant or obligation for perpetual renewal.\n",
       "* The lease is granted for a term certain exceeding 21 years.\n",
       "* The lease demises one house.\n",
       "* The lease is a residential lease.\n",
       "* The existing tenancy was granted to a former owner, a relative of a former owner, or the trustees of a trust whose beneficiaries are or include a former owner or a relative of a former owner.\n",
       "* Provision for the grant of another lease is included.\n",
       "* The original lease does not have a long term.\n",
       "* Powers of a person to grant or assign such a lease.\n",
       "\n",
       "\n",
       "The provided text does not specify when the Leasehold and Freehold Reform Act 2024 comes into effect."
      ],
      "text/plain": [
       "<IPython.core.display.Markdown object>"
      ]
     },
     "metadata": {},
     "output_type": "display_data"
    },
    {
     "name": "stdout",
     "output_type": "stream",
     "text": [
      "\n"
     ]
    },
    {
     "data": {
      "text/markdown": [
       "*thinking*: I have enough information to summarise the key aspects of the Leasehold and Freehold Reform Act 2024."
      ],
      "text/plain": [
       "<IPython.core.display.Markdown object>"
      ]
     },
     "metadata": {},
     "output_type": "display_data"
    },
    {
     "name": "stdout",
     "output_type": "stream",
     "text": [
      "\n"
     ]
    }
   ],
   "source": [
    "resp = cli.request(\"\"\"\n",
    "Summarise any significants acts of parliament which will have an impact on\n",
    "leaseholders and freeholders resident in the UK.\n",
    "\n",
    "For each act of parliament which will have an impact, describe important information\n",
    "including the title, a description, related legislation.  Also describe when the\n",
    "legislation comes into effect.\n",
    "\"\"\",\n",
    "    think=thought,\n",
    "    observe=observe,\n",
    ")\n"
   ]
  },
  {
   "cell_type": "code",
   "execution_count": 59,
   "id": "296bd429-6ba9-4890-afa7-b06424b21672",
   "metadata": {},
   "outputs": [
    {
     "data": {
      "text/markdown": [
       "The Leasehold and Freehold Reform Act 2024 is a significant piece of legislation impacting leaseholders and freeholders in the UK.  While the exact effective date isn't provided, the Act focuses on reforming long residential leases of houses.  A lease qualifies as 'long' if it meets three conditions:\n",
       "\n",
       "1. **Long Term:** The lease exceeds 21 years, is granted with a covenant for perpetual renewal (excluding sub-leases of 21 years or less), or forms part of a series extending beyond 21 years.\n",
       "2. **Single House:** The lease covers only one house (with or without appurtenances).\n",
       "3. **Residential Lease:** The lease is classified as residential (as defined within the Act).\n",
       "\n",
       "The Act also addresses situations involving leases capable of forming part of a series exceeding 21 years, those granted with perpetual renewal covenants, and those granted to former owners, their relatives, or related trusts.  Specific details regarding the grant and assignment of such leases are also included.  Further details on the exact provisions and effective date require additional research beyond the provided information."
      ],
      "text/plain": [
       "<IPython.core.display.Markdown object>"
      ]
     },
     "metadata": {},
     "output_type": "display_data"
    }
   ],
   "source": [
    "display(Markdown(resp))"
   ]
  },
  {
   "cell_type": "code",
   "execution_count": null,
   "id": "f561556e-fcc0-425d-a4ee-40c6096653c5",
   "metadata": {},
   "outputs": [],
   "source": []
  }
 ],
 "metadata": {
  "kernelspec": {
   "display_name": "Python 3 (ipykernel)",
   "language": "python",
   "name": "python3"
  },
  "language_info": {
   "codemirror_mode": {
    "name": "ipython",
    "version": 3
   },
   "file_extension": ".py",
   "mimetype": "text/x-python",
   "name": "python",
   "nbconvert_exporter": "python",
   "pygments_lexer": "ipython3",
   "version": "3.12.7"
  }
 },
 "nbformat": 4,
 "nbformat_minor": 5
}
